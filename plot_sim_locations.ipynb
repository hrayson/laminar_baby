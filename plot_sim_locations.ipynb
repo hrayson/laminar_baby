{
 "cells": [
  {
   "cell_type": "code",
   "execution_count": 8,
   "id": "b1916407",
   "metadata": {},
   "outputs": [],
   "source": [
    "import os\n",
    "import glob\n",
    "import pickle\n",
    "import nibabel as nib\n",
    "from lameg.viz import show_surface"
   ]
  },
  {
   "cell_type": "code",
   "execution_count": 4,
   "id": "03be41f5",
   "metadata": {},
   "outputs": [],
   "source": [
    "out_dir='../output/snr_simulations'\n",
    "fnames=sorted(glob.glob(os.path.join(out_dir, f'*snr_-50.pickle')))\n",
    "vtx=[]\n",
    "for f_idx, fname in enumerate(fnames):\n",
    "    with open(fname,'rb') as file:\n",
    "        results=pickle.load(file)\n",
    "        vtx.append(results['sim_vertex'])"
   ]
  },
  {
   "cell_type": "code",
   "execution_count": 13,
   "id": "bc882918",
   "metadata": {},
   "outputs": [
    {
     "data": {
      "application/vnd.jupyter.widget-view+json": {
       "model_id": "b97b50e047f048e4a6e1aa0b9245adcb",
       "version_major": 2,
       "version_minor": 0
      },
      "text/plain": [
       "Output()"
      ]
     },
     "metadata": {},
     "output_type": "display_data"
    }
   ],
   "source": [
    "pial_ds_mesh_fname = '/home/bonaiuto/laminar_baby/data/derivatives/217/6m/pial.ds.link_vector.fixed.gii'\n",
    "pial_ds_mesh = nib.load(pial_ds_mesh_fname)\n",
    "pial_coord = pial_ds_mesh.darrays[0].data[vtx,:]\n",
    "pial_mesh_fname = '/home/bonaiuto/laminar_baby/data/derivatives/217/6m/pial.gii'\n",
    "pial_mesh = nib.load(pial_mesh_fname)\n",
    "cam_view = [152, 28, 15,\n",
    "            3.5, 26, 38.5,\n",
    "            0, 0, 1]\n",
    "plot = show_surface(\n",
    "    pial_mesh, \n",
    "    opacity=.25, \n",
    "    coords=pial_coord,\n",
    "    coord_size=2,\n",
    "    camera_view=cam_view\n",
    ")"
   ]
  },
  {
   "cell_type": "code",
   "execution_count": 14,
   "id": "0f525e82",
   "metadata": {},
   "outputs": [],
   "source": [
    "plot.fetch_screenshot()"
   ]
  },
  {
   "cell_type": "code",
   "execution_count": 17,
   "id": "b05d92f9",
   "metadata": {},
   "outputs": [],
   "source": [
    "from base64 import b64decode\n",
    "from PIL import Image\n",
    "import io\n",
    "import numpy as np\n",
    "image_data = b64decode(plot.screenshot)\n",
    "\n",
    "image = Image.open(io.BytesIO(image_data))\n",
    "\n",
    "image_array = np.array(image)\n",
    "\n",
    "# Save the image with high DPI\n",
    "image.save('/home/bonaiuto/laminar_baby/figures/sim_locations.png', format='PNG', dpi=(300, 300))"
   ]
  },
  {
   "cell_type": "code",
   "execution_count": null,
   "id": "4ee15c4c",
   "metadata": {},
   "outputs": [],
   "source": []
  }
 ],
 "metadata": {
  "kernelspec": {
   "display_name": "laminar_baby",
   "language": "python",
   "name": "laminar_baby"
  },
  "language_info": {
   "codemirror_mode": {
    "name": "ipython",
    "version": 3
   },
   "file_extension": ".py",
   "mimetype": "text/x-python",
   "name": "python",
   "nbconvert_exporter": "python",
   "pygments_lexer": "ipython3",
   "version": "3.7.16"
  }
 },
 "nbformat": 4,
 "nbformat_minor": 5
}
