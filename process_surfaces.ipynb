{
 "cells": [
  {
   "cell_type": "code",
   "execution_count": 49,
   "id": "1121d094",
   "metadata": {},
   "outputs": [],
   "source": [
    "import os\n",
    "import vtk\n",
    "import nibabel as nib\n",
    "import numpy as np\n",
    "\n",
    "from lameg.surf import create_surf_gifti, remove_vertices, combine_surfaces, downsample_multiple_surfaces\n",
    "from lameg.viz import show_surface"
   ]
  },
  {
   "cell_type": "code",
   "execution_count": 24,
   "id": "884f6dcc",
   "metadata": {},
   "outputs": [],
   "source": [
    "def convert_vtk_to_gifti(fname):\n",
    "    # Initialize a reader for the VTK file\n",
    "    reader = vtk.vtkPolyDataReader()\n",
    "    reader.SetFileName(fname)\n",
    "    reader.Update()\n",
    "\n",
    "    # Retrieve the output as a polydata object\n",
    "    polydata = reader.GetOutput()\n",
    "\n",
    "    # Get the vertices (points)\n",
    "    points = polydata.GetPoints()\n",
    "    vertices = [points.GetPoint(i) for i in range(points.GetNumberOfPoints())]\n",
    "\n",
    "    # Get the faces (polygons)\n",
    "    faces = []\n",
    "    for i in range(polydata.GetNumberOfCells()):\n",
    "        cell = polydata.GetCell(i)\n",
    "        # Assuming the cell is a polygon, extract its point indices\n",
    "        if cell.GetCellType() == vtk.VTK_TRIANGLE:\n",
    "            face = [cell.GetPointId(j) for j in range(cell.GetNumberOfPoints())]\n",
    "            faces.append(face)\n",
    "            \n",
    "    surf = create_surf_gifti(np.array(vertices), np.array(faces))\n",
    "    return surf"
   ]
  },
  {
   "cell_type": "code",
   "execution_count": 25,
   "id": "68304163",
   "metadata": {},
   "outputs": [],
   "source": [
    "hemis=['lh','rh']\n",
    "orig_surfs=['OuterSurf','MiddleSurf','InnerSurf']\n",
    "new_surfs=['pial','0.5','white']\n",
    "n_surfaces=11\n",
    "layers = np.linspace(1, 0, n_surfaces)\n",
    "data_dir='/home/bonaiuto/laminar_baby/data/derivatives/217/6m'"
   ]
  },
  {
   "cell_type": "code",
   "execution_count": 26,
   "id": "7aca7606",
   "metadata": {},
   "outputs": [],
   "source": [
    "# Convert vtk surfaces to gii\n",
    "for hemi in hemis:\n",
    "    for o_idx, orig_surf in enumerate(orig_surfs):\n",
    "        new_surf=new_surfs[o_idx]\n",
    "        orig_fname=os.path.join(data_dir, f'T1-iso-skullstripped-rmcere-tissue.{hemi}.{orig_surf}.PhysicalSpace.vtk')\n",
    "        new_fname=os.path.join(data_dir, f'{hemi}.{new_surf}.gii')\n",
    "        surf = convert_vtk_to_gifti(orig_fname)\n",
    "        nib.save(surf, new_fname)"
   ]
  },
  {
   "cell_type": "code",
   "execution_count": 28,
   "id": "73bded53",
   "metadata": {},
   "outputs": [
    {
     "data": {
      "application/vnd.jupyter.widget-view+json": {
       "model_id": "ceb42bcd3e7a4ead9ccfde6bf5b9e96c",
       "version_major": 2,
       "version_minor": 0
      },
      "text/plain": [
       "Output()"
      ]
     },
     "metadata": {},
     "output_type": "display_data"
    }
   ],
   "source": [
    "_=show_surface(surf)"
   ]
  },
  {
   "cell_type": "code",
   "execution_count": 30,
   "id": "8af68790",
   "metadata": {},
   "outputs": [],
   "source": [
    "for hemi in hemis:\n",
    "    white=nib.load(os.path.join(data_dir, f'{hemi}.white.gii'))\n",
    "    pial=nib.load(os.path.join(data_dir, f'{hemi}.pial.gii'))\n",
    "    for layer in layers:\n",
    "        if layer>0 and layer<1:\n",
    "            new_verts=white.darrays[0].data + layer*(pial.darrays[0].data-white.darrays[0].data)\n",
    "            new_fname=os.path.join(data_dir, f'{hemi}.{layer:.3f}.gii')\n",
    "            layer_surf = create_surf_gifti(new_verts, white.darrays[1].data)\n",
    "            nib.save(layer_surf, new_fname)"
   ]
  },
  {
   "cell_type": "code",
   "execution_count": 44,
   "id": "8f7d74a0",
   "metadata": {},
   "outputs": [],
   "source": [
    "for hemi in hemis:\n",
    "    white=nib.load(os.path.join(data_dir, f'{hemi}.white.gii'))\n",
    "    pial=nib.load(os.path.join(data_dir, f'{hemi}.pial.gii'))\n",
    "    dist=np.sqrt(np.sum((white.darrays[0].data-pial.darrays[0].data)**2,-1))\n",
    "    verts_to_remove=np.where(dist<0.5)[0]\n",
    "    \n",
    "    for layer in layers:\n",
    "        if layer==0:\n",
    "            layer_name='white'            \n",
    "        elif layer==1:\n",
    "            layer_name='pial'\n",
    "        else:\n",
    "            layer_name=f'{layer:.3f}'\n",
    "        surf=nib.load(os.path.join(data_dir, f'{hemi}.{layer_name}.gii'))\n",
    "        surf_no_deep=remove_vertices(surf, verts_to_remove)\n",
    "        new_fname=os.path.join(data_dir, f'{hemi}.{layer_name}.nodeep.gii')\n",
    "        nib.save(surf_no_deep, new_fname)"
   ]
  },
  {
   "cell_type": "code",
   "execution_count": 48,
   "id": "8c840c3b",
   "metadata": {},
   "outputs": [],
   "source": [
    "surfaces_to_process=[]\n",
    "for layer in layers:\n",
    "    if layer==0:\n",
    "        layer_name='white'            \n",
    "    elif layer==1:\n",
    "        layer_name='pial'\n",
    "    else:\n",
    "        layer_name=f'{layer:.3f}'\n",
    "    surfaces_to_process.append(layer_name)\n",
    "    lh_surf=nib.load(os.path.join(data_dir, f'lh.{layer_name}.nodeep.gii'))\n",
    "    rh_surf=nib.load(os.path.join(data_dir, f'rh.{layer_name}.nodeep.gii'))\n",
    "    combined_fname=os.path.join(data_dir, f'{layer_name}.gii')\n",
    "    combined = combine_surfaces([lh_surf, rh_surf])\n",
    "    nib.save(combined, combined_fname)"
   ]
  },
  {
   "cell_type": "code",
   "execution_count": 50,
   "id": "6b3c2715",
   "metadata": {},
   "outputs": [
    {
     "name": "stdout",
     "output_type": "stream",
     "text": [
      "100.0% of the vertices in the decimated surface belong to the original surface.\n"
     ]
    }
   ],
   "source": [
    "ds_factor=0.1\n",
    "\n",
    "in_surfs = []\n",
    "for surface_name in surfaces_to_process:\n",
    "    in_surf_fname = os.path.join(data_dir, f'{surface_name}.gii')\n",
    "    in_surf = nib.load(in_surf_fname)\n",
    "    in_surfs.append(in_surf)\n",
    "\n",
    "# Downsample multiple surfaces\n",
    "out_surfs = downsample_multiple_surfaces(in_surfs, ds_factor)\n",
    "for surface_name, out_surf in zip(surfaces_to_process, out_surfs):\n",
    "    out_surf_path = os.path.join(data_dir, f'{surface_name}.ds.gii')\n",
    "    nib.save(out_surf, out_surf_path)"
   ]
  },
  {
   "cell_type": "code",
   "execution_count": 54,
   "id": "a3905331",
   "metadata": {},
   "outputs": [],
   "source": [
    "orientation='link_vector'\n",
    "fix_orientation=True\n",
    "\n",
    "orientations = compute_dipole_orientations(\n",
    "    orientation,\n",
    "    surfaces_to_process,\n",
    "    data_dir,\n",
    "    fixed=fix_orientation\n",
    ")\n",
    "\n",
    "base_fname = f'ds.{orientation}'\n",
    "if fix_orientation:\n",
    "    base_fname = f'{base_fname}.fixed'\n",
    "for l_idx, layer_name in enumerate(surfaces_to_process):\n",
    "    in_surf_path = os.path.join(data_dir, f'{layer_name}.ds.gii')\n",
    "    surf = nib.load(in_surf_path)\n",
    "\n",
    "    # Set these link vectors as the normals for the downsampled surface\n",
    "    ori_array=nib.gifti.GiftiDataArray(data=orientations[l_idx, :, :],\n",
    "                                       intent=nib.nifti1.intent_codes['NIFTI_INTENT_VECTOR'])\n",
    "    surf.add_gifti_data_array(ori_array)\n",
    "\n",
    "    # Save the modified downsampled surface with link vectors as normals\n",
    "    out_surf_path = os.path.join(data_dir, f'{layer_name}.{base_fname}.gii')\n",
    "    nib.save(surf, out_surf_path)"
   ]
  },
  {
   "cell_type": "code",
   "execution_count": 56,
   "id": "a94c43fb",
   "metadata": {},
   "outputs": [],
   "source": [
    "out_fname='multilayer.11.ds.link_vector.fixed.gii'\n",
    "all_surfs = []\n",
    "for layer_name in surfaces_to_process:\n",
    "    surf_path = os.path.join(data_dir, f'{layer_name}.{base_fname}.gii')\n",
    "    surf = nib.load(surf_path)\n",
    "    all_surfs.append(surf)\n",
    "\n",
    "combined = combine_surfaces(all_surfs)\n",
    "nib.save(combined, os.path.join(data_dir, out_fname))"
   ]
  },
  {
   "cell_type": "code",
   "execution_count": 57,
   "id": "6d7fc06a",
   "metadata": {},
   "outputs": [
    {
     "data": {
      "application/vnd.jupyter.widget-view+json": {
       "model_id": "1f57ae1842c6458dbb2b0b8ef450fb5e",
       "version_major": 2,
       "version_minor": 0
      },
      "text/plain": [
       "Output()"
      ]
     },
     "metadata": {},
     "output_type": "display_data"
    }
   ],
   "source": [
    "_=show_surface(combined)"
   ]
  },
  {
   "cell_type": "code",
   "execution_count": null,
   "id": "662d4423",
   "metadata": {},
   "outputs": [],
   "source": []
  }
 ],
 "metadata": {
  "kernelspec": {
   "display_name": "laminar_baby",
   "language": "python",
   "name": "laminar_baby"
  },
  "language_info": {
   "codemirror_mode": {
    "name": "ipython",
    "version": 3
   },
   "file_extension": ".py",
   "mimetype": "text/x-python",
   "name": "python",
   "nbconvert_exporter": "python",
   "pygments_lexer": "ipython3",
   "version": "3.7.16"
  }
 },
 "nbformat": 4,
 "nbformat_minor": 5
}
